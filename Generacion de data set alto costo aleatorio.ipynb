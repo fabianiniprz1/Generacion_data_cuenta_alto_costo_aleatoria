{
 "cells": [
  {
   "cell_type": "code",
   "execution_count": 20,
   "metadata": {},
   "outputs": [],
   "source": [
    "import pandas as pd\n",
    "import numpy as np"
   ]
  },
  {
   "cell_type": "code",
   "execution_count": 73,
   "metadata": {},
   "outputs": [],
   "source": [
    "def data_frame_alto_costo(cantidad):\n",
    "    \n",
    "    Genero = ['FEMENINO','MASCULINO']\n",
    "    #Patologias consultadas en https://www.ambitojuridico.com/noticias/general/administrativo-y-contratacion/enfermedades-catastroficas-y-de-alto-costo-estan\n",
    "    Patologia = ['Cáncer de cérvix','Cáncer de mama','Cáncer de estómago','Cáncer de colon y recto','Cáncer de próstata','Leucemia linfoide aguda','Leucemia mieloide aguda','Linfoma hodgkin','Linfoma no hodgkin','Epilepsia','Artritis reumatoidea','VIH']\n",
    "    Razon_social = ['Zapatotes','Empleadores 2000','Carnes de arroz','ByJL','Trasportes Cortes y lupita','La Gran Orquesta','Pachito y pacho','Yo, tú y nosotros']\n",
    "    Sede = ['Choco', 'Valle del cauca', 'Cundinamarca','Antioquia','Tolima']\n",
    "    \n",
    "    Genero_data = []\n",
    "    Patologia_data = []\n",
    "    Razon_social_data = []\n",
    "    Sede_data = []\n",
    "    \n",
    "    Edad =  35 + 5 * np.random.randn(cantidad)\n",
    "    Consumo = 1000000 +300000 * np.random.randn(cantidad)\n",
    "      \n",
    "    Edad_data = Edad.astype(int)\n",
    "    for i in range(cantidad):\n",
    "        Genero_data.append(np.random.choice(Genero))\n",
    "        Patologia_data.append(np.random.choice(Patologia))\n",
    "        Razon_social_data.append(np.random.choice(Razon_social))\n",
    "        Sede_data.append(np.random.choice(Sede))\n",
    "    \n",
    "    dataset = pd.DataFrame({\n",
    "        'Genero' : Genero_data,\n",
    "        'Edad' : Edad_data,\n",
    "        'Patologia' : Patologia_data,\n",
    "        'Razon_social' : Razon_social_data,\n",
    "        'Sede' : Sede_data,\n",
    "        'Consumo' : Consumo\n",
    "    })\n",
    "    \n",
    "    return dataset"
   ]
  },
  {
   "cell_type": "code",
   "execution_count": 91,
   "metadata": {},
   "outputs": [],
   "source": [
    "Alto_costo = data_frame_alto_costo(100)"
   ]
  }
 ],
 "metadata": {
  "kernelspec": {
   "display_name": "Python 3",
   "language": "python",
   "name": "python3"
  },
  "language_info": {
   "codemirror_mode": {
    "name": "ipython",
    "version": 3
   },
   "file_extension": ".py",
   "mimetype": "text/x-python",
   "name": "python",
   "nbconvert_exporter": "python",
   "pygments_lexer": "ipython3",
   "version": "3.7.4"
  }
 },
 "nbformat": 4,
 "nbformat_minor": 2
}
